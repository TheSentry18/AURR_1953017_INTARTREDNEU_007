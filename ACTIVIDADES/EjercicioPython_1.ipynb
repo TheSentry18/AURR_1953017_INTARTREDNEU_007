{
  "nbformat": 4,
  "nbformat_minor": 0,
  "metadata": {
    "colab": {
      "provenance": []
    },
    "kernelspec": {
      "name": "python3",
      "display_name": "Python 3"
    },
    "language_info": {
      "name": "python"
    }
  },
  "cells": [
    {
      "cell_type": "code",
      "execution_count": null,
      "metadata": {
        "colab": {
          "base_uri": "https://localhost:8080/"
        },
        "id": "h1X_Fyr8aiMP",
        "outputId": "564a54fd-395a-4f29-d472-fe84326588dd"
      },
      "outputs": [
        {
          "output_type": "stream",
          "name": "stdout",
          "text": [
            "What is your name? Juan\n",
            "I am sorry, I am not allowed to talk to you.\n"
          ]
        }
      ],
      "source": [
        "name = input(\"What is your name? \")\n",
        "\n",
        "if name.lower() not in [\"ana\", \"pedro\", \"juan\"]:\n",
        "    print(\"Hello, \" + name + \"!\")\n",
        "else:\n",
        "    print(\"I am sorry, I am not allowed to talk to you.\")\n"
      ]
    }
  ]
}