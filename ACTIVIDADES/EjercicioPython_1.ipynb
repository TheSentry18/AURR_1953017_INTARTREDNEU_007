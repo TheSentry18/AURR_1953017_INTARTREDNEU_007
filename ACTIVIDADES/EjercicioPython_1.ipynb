{
  "nbformat": 4,
  "nbformat_minor": 0,
  "metadata": {
    "colab": {
      "provenance": []
    },
    "kernelspec": {
      "name": "python3",
      "display_name": "Python 3"
    },
    "language_info": {
      "name": "python"
    }
  },
  "cells": [
    {
      "cell_type": "markdown",
      "source": [
        "Inteligencia Artificial y Redes Neuronales\n",
        "Actividad: #2 Diseño de algoritmos en Python\n",
        "Nombre: Andrick Uriel Rosales Rodríguez\n",
        "Matrícula: 1953017\n",
        "Grupo: 007\n",
        "Hora: N1\n",
        "Dia: LMV"
      ],
      "metadata": {
        "id": "hJytqkdZ72aJ"
      }
    },
    {
      "cell_type": "code",
      "execution_count": null,
      "metadata": {
        "colab": {
          "base_uri": "https://localhost:8080/"
        },
        "id": "h1X_Fyr8aiMP",
        "outputId": "2f98c6f9-6415-4172-92d3-cefd827cb338"
      },
      "outputs": [
        {
          "output_type": "stream",
          "name": "stdout",
          "text": [
            "¿Cuál es tu nombre? Andrick Rosales\n",
            "¡Hola, Andrick Rosales!\n"
          ]
        }
      ],
      "source": [
        "name = input(\"¿Cuál es tu nombre? \")\n",
        "\n",
        "if name.lower() not in [\"ana\", \"pedro\", \"juan\"]:\n",
        "    print(\"¡Hola, \" + name + \"!\")\n",
        "else:\n",
        "    print(\"Lo siento, no puedo saludarte :(\")\n"
      ]
    },
    {
      "cell_type": "code",
      "source": [
        "juegos = []\n",
        "for i in range(3):\n",
        "  juego = input(\"¿Cuál es el nombre del juego \" + str(i + 1) + \"? \")\n",
        "  juegos.append(juego)\n",
        "\n",
        "for i in reversed(range(3)):\n",
        "  print(\"Juego \" + str(i + 1) + \": \" + juegos[i])\n"
      ],
      "metadata": {
        "colab": {
          "base_uri": "https://localhost:8080/"
        },
        "id": "7ggT_ybm1Uu8",
        "outputId": "e4a63a1c-2709-498a-ae65-7af4fa6292ee"
      },
      "execution_count": null,
      "outputs": [
        {
          "output_type": "stream",
          "name": "stdout",
          "text": [
            "¿Cuál es el nombre del juego 1? 1\n",
            "¿Cuál es el nombre del juego 2? 2\n",
            "¿Cuál es el nombre del juego 3? 3\n",
            "Juego 3: 3\n",
            "Juego 2: 2\n",
            "Juego 1: 1\n"
          ]
        }
      ]
    },
    {
      "cell_type": "code",
      "source": [
        "num_fib = int(input(\"¿Cuántos números de la sucesión de Fibonacci quieres conocer?\"))\n",
        "\n",
        "f1 = 0\n",
        "f2 = 1\n",
        "\n",
        "print(f1)\n",
        "print(f2)\n",
        "\n",
        "for i in range(2, num_fib):\n",
        "  f3 = f1 + f2\n",
        "\n",
        "  print(f3)\n",
        "\n",
        "  f1 = f2\n",
        "  f2 = f3\n"
      ],
      "metadata": {
        "colab": {
          "base_uri": "https://localhost:8080/"
        },
        "id": "76SyBzj42jWr",
        "outputId": "193bc980-f763-45a0-90eb-9ad382788b4f"
      },
      "execution_count": null,
      "outputs": [
        {
          "output_type": "stream",
          "name": "stdout",
          "text": [
            "¿Cuántos números de la sucesión de Fibonacci quieres conocer?15\n",
            "0\n",
            "1\n",
            "1\n",
            "2\n",
            "3\n",
            "5\n",
            "8\n",
            "13\n",
            "21\n",
            "34\n",
            "55\n",
            "89\n",
            "144\n",
            "233\n",
            "377\n"
          ]
        }
      ]
    },
    {
      "cell_type": "code",
      "source": [
        "\n",
        "import random\n",
        "\n",
        "numero_secreto = random.randint(1, 100)\n",
        "\n",
        "guess = int(input(\"Adivina el número del 1 al 100: \"))\n",
        "\n",
        "while guess != numero_secreto:\n",
        "  if guess < numero_secreto:\n",
        "    print(\"El número es mayor que\", guess)\n",
        "  else:\n",
        "    print(\"El número es menor que\", guess)\n",
        "\n",
        "  guess = int(input(\"Intenta de nuevo: \"))\n",
        "\n",
        "print(\"¡Felicidades, adivinaste el número\")\n"
      ],
      "metadata": {
        "colab": {
          "base_uri": "https://localhost:8080/"
        },
        "id": "fWjIi9rc3PrH",
        "outputId": "e370eff2-b0e2-41bc-dcd0-0283e2fb0b54"
      },
      "execution_count": null,
      "outputs": [
        {
          "output_type": "stream",
          "name": "stdout",
          "text": [
            "Adivina el número del 1 al 100: 20\n",
            "El número es menor que 20\n",
            "Intenta de nuevo: 21\n",
            "El número es menor que 21\n",
            "Intenta de nuevo: 10\n",
            "El número es mayor que 10\n",
            "Intenta de nuevo: 12\n",
            "El número es mayor que 12\n",
            "Intenta de nuevo: 13\n",
            "El número es mayor que 13\n",
            "Intenta de nuevo: 14\n",
            "El número es mayor que 14\n",
            "Intenta de nuevo: 15\n",
            "El número es mayor que 15\n",
            "Intenta de nuevo: 17\n",
            "El número es mayor que 17\n",
            "Intenta de nuevo: 19\n",
            "¡Felicidades, adivinaste el número\n"
          ]
        }
      ]
    },
    {
      "cell_type": "code",
      "source": [
        "\n",
        "rango_menor = int(input(\"Ingresa el rángo menor: \"))\n",
        "rango_mayor = int(input(\"Ingresa el rango mayor: \"))\n",
        "\n",
        "print(\"Los números primos entre\", rango_menor, \"y\", rango_mayor, \"son:\")\n",
        "\n",
        "for num in range(rango_menor, rango_mayor + 1):\n",
        "  if num > 1:\n",
        "    is_prime = True\n",
        "    for i in range(2, int(num**0.5) + 1):\n",
        "      if (num % i) == 0:\n",
        "        is_prime = False\n",
        "        break\n",
        "    if is_prime:\n",
        "      print(num)\n"
      ],
      "metadata": {
        "colab": {
          "base_uri": "https://localhost:8080/"
        },
        "id": "Yv-RapLg42JX",
        "outputId": "f5546aa1-dae8-40ba-b7ef-333e96fabf78"
      },
      "execution_count": null,
      "outputs": [
        {
          "output_type": "stream",
          "name": "stdout",
          "text": [
            "Ingresa el rángo menor: 2\n",
            "Ingresa el rango mayor: 90\n",
            "Los números primos entre 2 y 90 son:\n",
            "2\n",
            "3\n",
            "5\n",
            "7\n",
            "11\n",
            "13\n",
            "17\n",
            "19\n",
            "23\n",
            "29\n",
            "31\n",
            "37\n",
            "41\n",
            "43\n",
            "47\n",
            "53\n",
            "59\n",
            "61\n",
            "67\n",
            "71\n",
            "73\n",
            "79\n",
            "83\n",
            "89\n"
          ]
        }
      ]
    },
    {
      "cell_type": "code",
      "source": [
        "\n",
        "num1 = float(input(\"Ingresa el primer número: \"))\n",
        "num2 = float(input(\"Ingresa el segúndo número: \"))\n",
        "operation = input(\"Ingresa la operación (suma, resta, division, multiplicacion): \")\n",
        "\n",
        "if operation == \"suma\":\n",
        "  result = num1 + num2\n",
        "elif operation == \"resta\":\n",
        "  result = num1 - num2\n",
        "elif operation == \"division\":\n",
        "  result = num1 / num2\n",
        "elif operation == \"multiplicacion\":\n",
        "  result = num1 * num2\n",
        "else:\n",
        "  print(\"Invalid operation\")\n",
        "  exit\n",
        "\n",
        "print(f\"Result: {result}\")\n"
      ],
      "metadata": {
        "colab": {
          "base_uri": "https://localhost:8080/"
        },
        "id": "ohtQz7q06F_3",
        "outputId": "ce82e7b3-42dc-47eb-a30b-54d6292880df"
      },
      "execution_count": null,
      "outputs": [
        {
          "output_type": "stream",
          "name": "stdout",
          "text": [
            "Ingresa el primer número: 20\n",
            "Ingresa el segúndo número: 30\n",
            "Ingresa la operación (suma, resta, division, multiplicacion): multiplicacion\n",
            "Result: 600.0\n"
          ]
        }
      ]
    }
  ]
}